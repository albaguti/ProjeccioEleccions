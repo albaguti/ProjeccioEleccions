{
 "cells": [
  {
   "cell_type": "markdown",
   "id": "00e389ce-1bbb-4f7c-a1e3-64a599f1c7db",
   "metadata": {},
   "source": [
    "<h1> Projeccio resultats eleccions a Catalunya"
   ]
  },
  {
   "cell_type": "markdown",
   "id": "704f6eb4-00fd-4fa9-9bc4-84ec92ed0200",
   "metadata": {},
   "source": [
    "<h2> Càlcul per provincies"
   ]
  },
  {
   "cell_type": "markdown",
   "id": "bfc75565-31b5-4777-91b6-8310ebfcae7d",
   "metadata": {},
   "source": [
    "<ul><li>Barcelona: 32</li>\n",
    "    <li>Girona:  6</li>\n",
    "    <li>Lleida: 4</li>\n",
    "    <li>Tarragon 6</li>\n",
    "</ul>\n",
    "Total 48 escons"
   ]
  },
  {
   "cell_type": "markdown",
   "id": "9e86fdef-ea1a-4963-ae87-c1994a216fd2",
   "metadata": {},
   "source": [
    "<h3> Lleida"
   ]
  },
  {
   "cell_type": "code",
   "execution_count": 1,
   "id": "37aaa822-f11c-414c-b7e5-a991c6e155c4",
   "metadata": {},
   "outputs": [],
   "source": [
    "lleida = [180233,122911,4922,4259]\n",
    "#[Vots totals,Abstencions,Vots en blanc,Vots nuls]"
   ]
  },
  {
   "cell_type": "code",
   "execution_count": 2,
   "id": "f5237e94-4db7-49ac-8395-8a3f6d2ac49c",
   "metadata": {},
   "outputs": [],
   "source": [
    "erc = 48099\n",
    "junts = 47522\n",
    "psc = 30950\n",
    "pp = 10444\n",
    "ara_pl = 8457\n",
    "cup = 6320\n",
    "resultats = [erc,junts,psc,pp,ara_pl,cup]\n",
    "percentatge = [0.2669,0.2637,0.1717,0.579,0.469,0.351] "
   ]
  },
  {
   "cell_type": "markdown",
   "id": "8d401ab8-d4a9-48cb-8b09-615c1b1e8943",
   "metadata": {},
   "source": [
    "Vot indepe Inicial"
   ]
  },
  {
   "cell_type": "code",
   "execution_count": 3,
   "id": "af9f46b0-ef8d-4e32-a2c1-18381a56118a",
   "metadata": {},
   "outputs": [],
   "source": [
    "vot_indepe_inici = erc + junts + cup"
   ]
  },
  {
   "cell_type": "code",
   "execution_count": 4,
   "id": "905e2b4a-a479-4711-a04d-a6585159974e",
   "metadata": {},
   "outputs": [
    {
     "name": "stdout",
     "output_type": "stream",
     "text": [
      "151792\n"
     ]
    }
   ],
   "source": [
    "tmp = 0\n",
    "for i in resultats:\n",
    "    tmp += i\n",
    "print(tmp)"
   ]
  },
  {
   "cell_type": "code",
   "execution_count": 5,
   "id": "a3174f54-4bb6-4e33-8890-5ece49ee1125",
   "metadata": {},
   "outputs": [],
   "source": [
    "vots_a_repartir = 4"
   ]
  },
  {
   "cell_type": "code",
   "execution_count": 6,
   "id": "b0ab0f9e-4dc1-49d4-8091-85c937be89b1",
   "metadata": {},
   "outputs": [
    {
     "name": "stdout",
     "output_type": "stream",
     "text": [
      "[48099, 47522, 30950, 10444, 8457, 6320, 24050, 23761, 15475, 5222, 4228, 3160, 16033, 15841, 10317, 3481, 2819, 2107, 12025, 11880, 7738, 2611, 2114, 1580]\n"
     ]
    }
   ],
   "source": [
    "res = []\n",
    "tmp = []\n",
    "tmp2=[]\n",
    "for i in range(1,vots_a_repartir+1):\n",
    "    for j in range(len(resultats)):\n",
    "        tmp.append(round((resultats[j]/i)))\n",
    "        tmp2.append(round((resultats[j]/i)))\n",
    "    res.append(tmp)\n",
    "    tmp = []\n",
    "print(tmp2) \n"
   ]
  },
  {
   "cell_type": "code",
   "execution_count": 7,
   "id": "50441fb4-ef43-4f17-b1db-9372f1b74abb",
   "metadata": {},
   "outputs": [],
   "source": [
    "tmp2 = sorted(tmp2,reverse=True)\n",
    "limit = tmp2[vots_a_repartir-1]"
   ]
  },
  {
   "cell_type": "code",
   "execution_count": 8,
   "id": "cc0fcb50-4a4d-4c7c-8f78-0910b07ec37e",
   "metadata": {},
   "outputs": [],
   "source": [
    "import pandas as pd"
   ]
  },
  {
   "cell_type": "code",
   "execution_count": 9,
   "id": "8d3f6c6e-11a7-4932-ae85-6a9c204b2941",
   "metadata": {},
   "outputs": [],
   "source": [
    "data = pd.DataFrame(res, columns=[\"ERC\",\"JUNTS\",\"PSC\",\"PP\",\"Ara_Pl\",\"CUP\"])"
   ]
  },
  {
   "cell_type": "code",
   "execution_count": 10,
   "id": "161d054d-fbb4-4a53-8c99-a7b3b68f98d7",
   "metadata": {},
   "outputs": [
    {
     "data": {
      "text/html": [
       "<style type=\"text/css\">\n",
       "#T_f00b4_row0_col0, #T_f00b4_row0_col1, #T_f00b4_row0_col2, #T_f00b4_row1_col0 {\n",
       "  background-color: green;\n",
       "}\n",
       "</style>\n",
       "<table id=\"T_f00b4\">\n",
       "  <thead>\n",
       "    <tr>\n",
       "      <th class=\"blank level0\" >&nbsp;</th>\n",
       "      <th id=\"T_f00b4_level0_col0\" class=\"col_heading level0 col0\" >ERC</th>\n",
       "      <th id=\"T_f00b4_level0_col1\" class=\"col_heading level0 col1\" >JUNTS</th>\n",
       "      <th id=\"T_f00b4_level0_col2\" class=\"col_heading level0 col2\" >PSC</th>\n",
       "      <th id=\"T_f00b4_level0_col3\" class=\"col_heading level0 col3\" >PP</th>\n",
       "      <th id=\"T_f00b4_level0_col4\" class=\"col_heading level0 col4\" >Ara_Pl</th>\n",
       "      <th id=\"T_f00b4_level0_col5\" class=\"col_heading level0 col5\" >CUP</th>\n",
       "    </tr>\n",
       "  </thead>\n",
       "  <tbody>\n",
       "    <tr>\n",
       "      <th id=\"T_f00b4_level0_row0\" class=\"row_heading level0 row0\" >0</th>\n",
       "      <td id=\"T_f00b4_row0_col0\" class=\"data row0 col0\" >48099</td>\n",
       "      <td id=\"T_f00b4_row0_col1\" class=\"data row0 col1\" >47522</td>\n",
       "      <td id=\"T_f00b4_row0_col2\" class=\"data row0 col2\" >30950</td>\n",
       "      <td id=\"T_f00b4_row0_col3\" class=\"data row0 col3\" >10444</td>\n",
       "      <td id=\"T_f00b4_row0_col4\" class=\"data row0 col4\" >8457</td>\n",
       "      <td id=\"T_f00b4_row0_col5\" class=\"data row0 col5\" >6320</td>\n",
       "    </tr>\n",
       "    <tr>\n",
       "      <th id=\"T_f00b4_level0_row1\" class=\"row_heading level0 row1\" >1</th>\n",
       "      <td id=\"T_f00b4_row1_col0\" class=\"data row1 col0\" >24050</td>\n",
       "      <td id=\"T_f00b4_row1_col1\" class=\"data row1 col1\" >23761</td>\n",
       "      <td id=\"T_f00b4_row1_col2\" class=\"data row1 col2\" >15475</td>\n",
       "      <td id=\"T_f00b4_row1_col3\" class=\"data row1 col3\" >5222</td>\n",
       "      <td id=\"T_f00b4_row1_col4\" class=\"data row1 col4\" >4228</td>\n",
       "      <td id=\"T_f00b4_row1_col5\" class=\"data row1 col5\" >3160</td>\n",
       "    </tr>\n",
       "    <tr>\n",
       "      <th id=\"T_f00b4_level0_row2\" class=\"row_heading level0 row2\" >2</th>\n",
       "      <td id=\"T_f00b4_row2_col0\" class=\"data row2 col0\" >16033</td>\n",
       "      <td id=\"T_f00b4_row2_col1\" class=\"data row2 col1\" >15841</td>\n",
       "      <td id=\"T_f00b4_row2_col2\" class=\"data row2 col2\" >10317</td>\n",
       "      <td id=\"T_f00b4_row2_col3\" class=\"data row2 col3\" >3481</td>\n",
       "      <td id=\"T_f00b4_row2_col4\" class=\"data row2 col4\" >2819</td>\n",
       "      <td id=\"T_f00b4_row2_col5\" class=\"data row2 col5\" >2107</td>\n",
       "    </tr>\n",
       "    <tr>\n",
       "      <th id=\"T_f00b4_level0_row3\" class=\"row_heading level0 row3\" >3</th>\n",
       "      <td id=\"T_f00b4_row3_col0\" class=\"data row3 col0\" >12025</td>\n",
       "      <td id=\"T_f00b4_row3_col1\" class=\"data row3 col1\" >11880</td>\n",
       "      <td id=\"T_f00b4_row3_col2\" class=\"data row3 col2\" >7738</td>\n",
       "      <td id=\"T_f00b4_row3_col3\" class=\"data row3 col3\" >2611</td>\n",
       "      <td id=\"T_f00b4_row3_col4\" class=\"data row3 col4\" >2114</td>\n",
       "      <td id=\"T_f00b4_row3_col5\" class=\"data row3 col5\" >1580</td>\n",
       "    </tr>\n",
       "  </tbody>\n",
       "</table>\n"
      ],
      "text/plain": [
       "<pandas.io.formats.style.Styler at 0x118284e80>"
      ]
     },
     "execution_count": 10,
     "metadata": {},
     "output_type": "execute_result"
    }
   ],
   "source": [
    "data.style.applymap(lambda x: 'background-color : green' if x>=limit else '')"
   ]
  },
  {
   "cell_type": "markdown",
   "id": "30e80330-62e2-4f81-b83e-805bd86deca9",
   "metadata": {},
   "source": [
    "<h4> Suposem increment abstencio als partits independistes 10%\n"
   ]
  },
  {
   "cell_type": "code",
   "execution_count": 11,
   "id": "0b3f42b9-104f-45e6-b321-130da5893833",
   "metadata": {},
   "outputs": [],
   "source": [
    "increment_abstencio = 1"
   ]
  },
  {
   "cell_type": "markdown",
   "id": "e2b5f3aa-4d98-41bf-8424-28e515b642e5",
   "metadata": {},
   "source": [
    "<h4> ERC"
   ]
  },
  {
   "cell_type": "code",
   "execution_count": 12,
   "id": "ae317ebb-fecd-4252-876d-a82fd6afbf11",
   "metadata": {},
   "outputs": [
    {
     "data": {
      "text/plain": [
       "0"
      ]
     },
     "execution_count": 12,
     "metadata": {},
     "output_type": "execute_result"
    }
   ],
   "source": [
    "resultats[0] -= resultats[0] * increment_abstencio \n",
    "resultats[0]"
   ]
  },
  {
   "cell_type": "markdown",
   "id": "aca91d0e-493b-49ce-9bd7-2eae864c67f0",
   "metadata": {},
   "source": [
    "<h4> Junts"
   ]
  },
  {
   "cell_type": "code",
   "execution_count": 13,
   "id": "84145975-6f50-46b6-82d1-c77180d0e944",
   "metadata": {},
   "outputs": [
    {
     "data": {
      "text/plain": [
       "0"
      ]
     },
     "execution_count": 13,
     "metadata": {},
     "output_type": "execute_result"
    }
   ],
   "source": [
    "resultats[1] -= resultats[1] *increment_abstencio\n",
    "resultats[1]"
   ]
  },
  {
   "cell_type": "markdown",
   "id": "accff6e5-b9c3-4d66-9935-0ece7939f8f8",
   "metadata": {},
   "source": [
    "<h4> CUP"
   ]
  },
  {
   "cell_type": "code",
   "execution_count": 14,
   "id": "231b4ca6-dbb0-4b73-bad7-d5e3c1576997",
   "metadata": {},
   "outputs": [
    {
     "data": {
      "text/plain": [
       "0"
      ]
     },
     "execution_count": 14,
     "metadata": {},
     "output_type": "execute_result"
    }
   ],
   "source": [
    "resultats[5] -= resultats[5] * increment_abstencio\n",
    "resultats[5]"
   ]
  },
  {
   "cell_type": "markdown",
   "id": "6d5f5233-498f-4dba-ba1a-695a0596e11d",
   "metadata": {},
   "source": [
    "Quin augment a l'abstenció generalitzada representa un increment del 10% en el vot indepe?"
   ]
  },
  {
   "cell_type": "code",
   "execution_count": 15,
   "id": "0ebd29e7-37f5-484b-8045-165e9197fe0d",
   "metadata": {},
   "outputs": [
    {
     "name": "stdout",
     "output_type": "stream",
     "text": [
      "Augment abstenció quan els indepes perden 10% vots: 56.56 %\n"
     ]
    }
   ],
   "source": [
    "vot_indepe_abs = resultats[0] + resultats[1] + resultats[5]\n",
    "print(\"Augment abstenció quan els indepes perden 10% vots:\", round(100*(vot_indepe_inici- vot_indepe_abs)/lleida[0],2),\"%\")"
   ]
  },
  {
   "cell_type": "code",
   "execution_count": 16,
   "id": "feb52d70-6efa-467a-b07f-83ac0da08935",
   "metadata": {},
   "outputs": [],
   "source": [
    "res = []\n",
    "tmp = []\n",
    "tmp2=[]\n",
    "for i in range(1,vots_a_repartir+1):\n",
    "    for j in range(len(resultats)):\n",
    "        tmp.append(round((resultats[j]/i)))\n",
    "        tmp2.append(round((resultats[j]/i)))\n",
    "    res.append(tmp)\n",
    "    tmp = []\n",
    "tmp2 = sorted(tmp2,reverse=True)\n",
    "limit = tmp2[vots_a_repartir-1]\n",
    "data = pd.DataFrame(res, columns=[\"ERC\",\"JUNTS\",\"PSC\",\"PP\",\"Ara_Pl\",\"CUP\"])"
   ]
  },
  {
   "cell_type": "code",
   "execution_count": 17,
   "id": "8d211db7-83a7-4335-95e1-38ae8c342da9",
   "metadata": {},
   "outputs": [
    {
     "data": {
      "text/html": [
       "<style type=\"text/css\">\n",
       "#T_eb6c3_row0_col2, #T_eb6c3_row0_col3, #T_eb6c3_row1_col2, #T_eb6c3_row2_col2 {\n",
       "  background-color: green;\n",
       "}\n",
       "</style>\n",
       "<table id=\"T_eb6c3\">\n",
       "  <thead>\n",
       "    <tr>\n",
       "      <th class=\"blank level0\" >&nbsp;</th>\n",
       "      <th id=\"T_eb6c3_level0_col0\" class=\"col_heading level0 col0\" >ERC</th>\n",
       "      <th id=\"T_eb6c3_level0_col1\" class=\"col_heading level0 col1\" >JUNTS</th>\n",
       "      <th id=\"T_eb6c3_level0_col2\" class=\"col_heading level0 col2\" >PSC</th>\n",
       "      <th id=\"T_eb6c3_level0_col3\" class=\"col_heading level0 col3\" >PP</th>\n",
       "      <th id=\"T_eb6c3_level0_col4\" class=\"col_heading level0 col4\" >Ara_Pl</th>\n",
       "      <th id=\"T_eb6c3_level0_col5\" class=\"col_heading level0 col5\" >CUP</th>\n",
       "    </tr>\n",
       "  </thead>\n",
       "  <tbody>\n",
       "    <tr>\n",
       "      <th id=\"T_eb6c3_level0_row0\" class=\"row_heading level0 row0\" >0</th>\n",
       "      <td id=\"T_eb6c3_row0_col0\" class=\"data row0 col0\" >0</td>\n",
       "      <td id=\"T_eb6c3_row0_col1\" class=\"data row0 col1\" >0</td>\n",
       "      <td id=\"T_eb6c3_row0_col2\" class=\"data row0 col2\" >30950</td>\n",
       "      <td id=\"T_eb6c3_row0_col3\" class=\"data row0 col3\" >10444</td>\n",
       "      <td id=\"T_eb6c3_row0_col4\" class=\"data row0 col4\" >8457</td>\n",
       "      <td id=\"T_eb6c3_row0_col5\" class=\"data row0 col5\" >0</td>\n",
       "    </tr>\n",
       "    <tr>\n",
       "      <th id=\"T_eb6c3_level0_row1\" class=\"row_heading level0 row1\" >1</th>\n",
       "      <td id=\"T_eb6c3_row1_col0\" class=\"data row1 col0\" >0</td>\n",
       "      <td id=\"T_eb6c3_row1_col1\" class=\"data row1 col1\" >0</td>\n",
       "      <td id=\"T_eb6c3_row1_col2\" class=\"data row1 col2\" >15475</td>\n",
       "      <td id=\"T_eb6c3_row1_col3\" class=\"data row1 col3\" >5222</td>\n",
       "      <td id=\"T_eb6c3_row1_col4\" class=\"data row1 col4\" >4228</td>\n",
       "      <td id=\"T_eb6c3_row1_col5\" class=\"data row1 col5\" >0</td>\n",
       "    </tr>\n",
       "    <tr>\n",
       "      <th id=\"T_eb6c3_level0_row2\" class=\"row_heading level0 row2\" >2</th>\n",
       "      <td id=\"T_eb6c3_row2_col0\" class=\"data row2 col0\" >0</td>\n",
       "      <td id=\"T_eb6c3_row2_col1\" class=\"data row2 col1\" >0</td>\n",
       "      <td id=\"T_eb6c3_row2_col2\" class=\"data row2 col2\" >10317</td>\n",
       "      <td id=\"T_eb6c3_row2_col3\" class=\"data row2 col3\" >3481</td>\n",
       "      <td id=\"T_eb6c3_row2_col4\" class=\"data row2 col4\" >2819</td>\n",
       "      <td id=\"T_eb6c3_row2_col5\" class=\"data row2 col5\" >0</td>\n",
       "    </tr>\n",
       "    <tr>\n",
       "      <th id=\"T_eb6c3_level0_row3\" class=\"row_heading level0 row3\" >3</th>\n",
       "      <td id=\"T_eb6c3_row3_col0\" class=\"data row3 col0\" >0</td>\n",
       "      <td id=\"T_eb6c3_row3_col1\" class=\"data row3 col1\" >0</td>\n",
       "      <td id=\"T_eb6c3_row3_col2\" class=\"data row3 col2\" >7738</td>\n",
       "      <td id=\"T_eb6c3_row3_col3\" class=\"data row3 col3\" >2611</td>\n",
       "      <td id=\"T_eb6c3_row3_col4\" class=\"data row3 col4\" >2114</td>\n",
       "      <td id=\"T_eb6c3_row3_col5\" class=\"data row3 col5\" >0</td>\n",
       "    </tr>\n",
       "  </tbody>\n",
       "</table>\n"
      ],
      "text/plain": [
       "<pandas.io.formats.style.Styler at 0x1195ecbe0>"
      ]
     },
     "execution_count": 17,
     "metadata": {},
     "output_type": "execute_result"
    }
   ],
   "source": [
    "data.style.applymap(lambda x: 'background-color : green' if x>=limit else '')"
   ]
  },
  {
   "cell_type": "markdown",
   "id": "0ee82463-383f-4826-b734-b2eb2b99d53c",
   "metadata": {},
   "source": [
    "<h3> Barcelona"
   ]
  },
  {
   "cell_type": "code",
   "execution_count": 18,
   "id": "88ea403b-8dbf-4552-a67b-3b4173f90e4a",
   "metadata": {},
   "outputs": [
    {
     "data": {
      "text/plain": [
       "0.3476571887508812"
      ]
     },
     "execution_count": 18,
     "metadata": {},
     "output_type": "execute_result"
    }
   ],
   "source": [
    "resultats_bcn = [571901,356644,332314,243065,211593,120213,93675]\n",
    "columns=[\"PSC\",\"Junts\",\"ERC\",\"Comuns\",\"PP\",\"VOX\",\"Cup\"]\n",
    "barcelona = [2251163,1818557,34085,28282]\n",
    "#[Vots totals,Abstencions,Vots en blanc,Vots nuls]\n",
    "psc = resultats_bcn[0]/barcelona[0]\n",
    "junts = resultats_bcn[1]/barcelona[0]\n",
    "erc = resultats_bcn[2]/barcelona[0]\n",
    "comuns = resultats_bcn[3]/barcelona[0]\n",
    "pp = resultats_bcn[4]/barcelona[0]\n",
    "vox = resultats_bcn[5]/barcelona[0]\n",
    "cup = resultats_bcn[6]/barcelona[0]\n",
    "percentatge_bcn = [psc,junts,erc,comuns,pp,vox,cup]\n",
    "votIndiBcn_i = resultats_bcn[1] + resultats_bcn[2] + resultats_bcn[6]\n",
    "votIndiBcn_i\n",
    "percentatge_indi = votIndiBcn_i/barcelona[0]\n",
    "percentatge_indi"
   ]
  },
  {
   "cell_type": "code",
   "execution_count": 19,
   "id": "8544649b-cd77-4310-b34f-fff0e311e733",
   "metadata": {},
   "outputs": [],
   "source": [
    "vots_a_repartir = 32\n",
    "res = []\n",
    "tmp = []\n",
    "tmp2=[]\n",
    "for i in range(1,vots_a_repartir+1):\n",
    "    for j in range(len(resultats_bcn)):\n",
    "         tmp.append(round((resultats_bcn[j]/i)))\n",
    "         tmp2.append(round((resultats_bcn[j]/i)))\n",
    "    res.append(tmp)\n",
    "    tmp = []"
   ]
  },
  {
   "cell_type": "code",
   "execution_count": 20,
   "id": "fe68fad9-32fd-4fab-bd2f-951ee980ae0d",
   "metadata": {},
   "outputs": [
    {
     "data": {
      "text/plain": [
       "55386"
      ]
     },
     "execution_count": 20,
     "metadata": {},
     "output_type": "execute_result"
    }
   ],
   "source": [
    "tmp2 = sorted(tmp2,reverse=True)\n",
    "limit = tmp2[vots_a_repartir-1]\n",
    "limit"
   ]
  },
  {
   "cell_type": "code",
   "execution_count": 21,
   "id": "be128c46-36a2-4044-916f-93ecf42b66e5",
   "metadata": {},
   "outputs": [],
   "source": [
    "data = pd.DataFrame(res, columns=columns)"
   ]
  },
  {
   "cell_type": "code",
   "execution_count": 22,
   "id": "36d19a0b-d675-40ca-98cc-5586a49ddd66",
   "metadata": {},
   "outputs": [
    {
     "data": {
      "text/html": [
       "<style type=\"text/css\">\n",
       "#T_30024_row0_col0, #T_30024_row0_col1, #T_30024_row0_col2, #T_30024_row0_col3, #T_30024_row0_col4, #T_30024_row0_col5, #T_30024_row0_col6, #T_30024_row1_col0, #T_30024_row1_col1, #T_30024_row1_col2, #T_30024_row1_col3, #T_30024_row1_col4, #T_30024_row1_col5, #T_30024_row2_col0, #T_30024_row2_col1, #T_30024_row2_col2, #T_30024_row2_col3, #T_30024_row2_col4, #T_30024_row3_col0, #T_30024_row3_col1, #T_30024_row3_col2, #T_30024_row3_col3, #T_30024_row4_col0, #T_30024_row4_col1, #T_30024_row4_col2, #T_30024_row5_col0, #T_30024_row5_col1, #T_30024_row5_col2, #T_30024_row6_col0, #T_30024_row7_col0, #T_30024_row8_col0, #T_30024_row9_col0 {\n",
       "  background-color: green;\n",
       "}\n",
       "</style>\n",
       "<table id=\"T_30024\">\n",
       "  <thead>\n",
       "    <tr>\n",
       "      <th class=\"blank level0\" >&nbsp;</th>\n",
       "      <th id=\"T_30024_level0_col0\" class=\"col_heading level0 col0\" >PSC</th>\n",
       "      <th id=\"T_30024_level0_col1\" class=\"col_heading level0 col1\" >Junts</th>\n",
       "      <th id=\"T_30024_level0_col2\" class=\"col_heading level0 col2\" >ERC</th>\n",
       "      <th id=\"T_30024_level0_col3\" class=\"col_heading level0 col3\" >Comuns</th>\n",
       "      <th id=\"T_30024_level0_col4\" class=\"col_heading level0 col4\" >PP</th>\n",
       "      <th id=\"T_30024_level0_col5\" class=\"col_heading level0 col5\" >VOX</th>\n",
       "      <th id=\"T_30024_level0_col6\" class=\"col_heading level0 col6\" >Cup</th>\n",
       "    </tr>\n",
       "  </thead>\n",
       "  <tbody>\n",
       "    <tr>\n",
       "      <th id=\"T_30024_level0_row0\" class=\"row_heading level0 row0\" >0</th>\n",
       "      <td id=\"T_30024_row0_col0\" class=\"data row0 col0\" >571901</td>\n",
       "      <td id=\"T_30024_row0_col1\" class=\"data row0 col1\" >356644</td>\n",
       "      <td id=\"T_30024_row0_col2\" class=\"data row0 col2\" >332314</td>\n",
       "      <td id=\"T_30024_row0_col3\" class=\"data row0 col3\" >243065</td>\n",
       "      <td id=\"T_30024_row0_col4\" class=\"data row0 col4\" >211593</td>\n",
       "      <td id=\"T_30024_row0_col5\" class=\"data row0 col5\" >120213</td>\n",
       "      <td id=\"T_30024_row0_col6\" class=\"data row0 col6\" >93675</td>\n",
       "    </tr>\n",
       "    <tr>\n",
       "      <th id=\"T_30024_level0_row1\" class=\"row_heading level0 row1\" >1</th>\n",
       "      <td id=\"T_30024_row1_col0\" class=\"data row1 col0\" >285950</td>\n",
       "      <td id=\"T_30024_row1_col1\" class=\"data row1 col1\" >178322</td>\n",
       "      <td id=\"T_30024_row1_col2\" class=\"data row1 col2\" >166157</td>\n",
       "      <td id=\"T_30024_row1_col3\" class=\"data row1 col3\" >121532</td>\n",
       "      <td id=\"T_30024_row1_col4\" class=\"data row1 col4\" >105796</td>\n",
       "      <td id=\"T_30024_row1_col5\" class=\"data row1 col5\" >60106</td>\n",
       "      <td id=\"T_30024_row1_col6\" class=\"data row1 col6\" >46838</td>\n",
       "    </tr>\n",
       "    <tr>\n",
       "      <th id=\"T_30024_level0_row2\" class=\"row_heading level0 row2\" >2</th>\n",
       "      <td id=\"T_30024_row2_col0\" class=\"data row2 col0\" >190634</td>\n",
       "      <td id=\"T_30024_row2_col1\" class=\"data row2 col1\" >118881</td>\n",
       "      <td id=\"T_30024_row2_col2\" class=\"data row2 col2\" >110771</td>\n",
       "      <td id=\"T_30024_row2_col3\" class=\"data row2 col3\" >81022</td>\n",
       "      <td id=\"T_30024_row2_col4\" class=\"data row2 col4\" >70531</td>\n",
       "      <td id=\"T_30024_row2_col5\" class=\"data row2 col5\" >40071</td>\n",
       "      <td id=\"T_30024_row2_col6\" class=\"data row2 col6\" >31225</td>\n",
       "    </tr>\n",
       "    <tr>\n",
       "      <th id=\"T_30024_level0_row3\" class=\"row_heading level0 row3\" >3</th>\n",
       "      <td id=\"T_30024_row3_col0\" class=\"data row3 col0\" >142975</td>\n",
       "      <td id=\"T_30024_row3_col1\" class=\"data row3 col1\" >89161</td>\n",
       "      <td id=\"T_30024_row3_col2\" class=\"data row3 col2\" >83078</td>\n",
       "      <td id=\"T_30024_row3_col3\" class=\"data row3 col3\" >60766</td>\n",
       "      <td id=\"T_30024_row3_col4\" class=\"data row3 col4\" >52898</td>\n",
       "      <td id=\"T_30024_row3_col5\" class=\"data row3 col5\" >30053</td>\n",
       "      <td id=\"T_30024_row3_col6\" class=\"data row3 col6\" >23419</td>\n",
       "    </tr>\n",
       "    <tr>\n",
       "      <th id=\"T_30024_level0_row4\" class=\"row_heading level0 row4\" >4</th>\n",
       "      <td id=\"T_30024_row4_col0\" class=\"data row4 col0\" >114380</td>\n",
       "      <td id=\"T_30024_row4_col1\" class=\"data row4 col1\" >71329</td>\n",
       "      <td id=\"T_30024_row4_col2\" class=\"data row4 col2\" >66463</td>\n",
       "      <td id=\"T_30024_row4_col3\" class=\"data row4 col3\" >48613</td>\n",
       "      <td id=\"T_30024_row4_col4\" class=\"data row4 col4\" >42319</td>\n",
       "      <td id=\"T_30024_row4_col5\" class=\"data row4 col5\" >24043</td>\n",
       "      <td id=\"T_30024_row4_col6\" class=\"data row4 col6\" >18735</td>\n",
       "    </tr>\n",
       "    <tr>\n",
       "      <th id=\"T_30024_level0_row5\" class=\"row_heading level0 row5\" >5</th>\n",
       "      <td id=\"T_30024_row5_col0\" class=\"data row5 col0\" >95317</td>\n",
       "      <td id=\"T_30024_row5_col1\" class=\"data row5 col1\" >59441</td>\n",
       "      <td id=\"T_30024_row5_col2\" class=\"data row5 col2\" >55386</td>\n",
       "      <td id=\"T_30024_row5_col3\" class=\"data row5 col3\" >40511</td>\n",
       "      <td id=\"T_30024_row5_col4\" class=\"data row5 col4\" >35266</td>\n",
       "      <td id=\"T_30024_row5_col5\" class=\"data row5 col5\" >20036</td>\n",
       "      <td id=\"T_30024_row5_col6\" class=\"data row5 col6\" >15612</td>\n",
       "    </tr>\n",
       "    <tr>\n",
       "      <th id=\"T_30024_level0_row6\" class=\"row_heading level0 row6\" >6</th>\n",
       "      <td id=\"T_30024_row6_col0\" class=\"data row6 col0\" >81700</td>\n",
       "      <td id=\"T_30024_row6_col1\" class=\"data row6 col1\" >50949</td>\n",
       "      <td id=\"T_30024_row6_col2\" class=\"data row6 col2\" >47473</td>\n",
       "      <td id=\"T_30024_row6_col3\" class=\"data row6 col3\" >34724</td>\n",
       "      <td id=\"T_30024_row6_col4\" class=\"data row6 col4\" >30228</td>\n",
       "      <td id=\"T_30024_row6_col5\" class=\"data row6 col5\" >17173</td>\n",
       "      <td id=\"T_30024_row6_col6\" class=\"data row6 col6\" >13382</td>\n",
       "    </tr>\n",
       "    <tr>\n",
       "      <th id=\"T_30024_level0_row7\" class=\"row_heading level0 row7\" >7</th>\n",
       "      <td id=\"T_30024_row7_col0\" class=\"data row7 col0\" >71488</td>\n",
       "      <td id=\"T_30024_row7_col1\" class=\"data row7 col1\" >44580</td>\n",
       "      <td id=\"T_30024_row7_col2\" class=\"data row7 col2\" >41539</td>\n",
       "      <td id=\"T_30024_row7_col3\" class=\"data row7 col3\" >30383</td>\n",
       "      <td id=\"T_30024_row7_col4\" class=\"data row7 col4\" >26449</td>\n",
       "      <td id=\"T_30024_row7_col5\" class=\"data row7 col5\" >15027</td>\n",
       "      <td id=\"T_30024_row7_col6\" class=\"data row7 col6\" >11709</td>\n",
       "    </tr>\n",
       "    <tr>\n",
       "      <th id=\"T_30024_level0_row8\" class=\"row_heading level0 row8\" >8</th>\n",
       "      <td id=\"T_30024_row8_col0\" class=\"data row8 col0\" >63545</td>\n",
       "      <td id=\"T_30024_row8_col1\" class=\"data row8 col1\" >39627</td>\n",
       "      <td id=\"T_30024_row8_col2\" class=\"data row8 col2\" >36924</td>\n",
       "      <td id=\"T_30024_row8_col3\" class=\"data row8 col3\" >27007</td>\n",
       "      <td id=\"T_30024_row8_col4\" class=\"data row8 col4\" >23510</td>\n",
       "      <td id=\"T_30024_row8_col5\" class=\"data row8 col5\" >13357</td>\n",
       "      <td id=\"T_30024_row8_col6\" class=\"data row8 col6\" >10408</td>\n",
       "    </tr>\n",
       "    <tr>\n",
       "      <th id=\"T_30024_level0_row9\" class=\"row_heading level0 row9\" >9</th>\n",
       "      <td id=\"T_30024_row9_col0\" class=\"data row9 col0\" >57190</td>\n",
       "      <td id=\"T_30024_row9_col1\" class=\"data row9 col1\" >35664</td>\n",
       "      <td id=\"T_30024_row9_col2\" class=\"data row9 col2\" >33231</td>\n",
       "      <td id=\"T_30024_row9_col3\" class=\"data row9 col3\" >24306</td>\n",
       "      <td id=\"T_30024_row9_col4\" class=\"data row9 col4\" >21159</td>\n",
       "      <td id=\"T_30024_row9_col5\" class=\"data row9 col5\" >12021</td>\n",
       "      <td id=\"T_30024_row9_col6\" class=\"data row9 col6\" >9368</td>\n",
       "    </tr>\n",
       "    <tr>\n",
       "      <th id=\"T_30024_level0_row10\" class=\"row_heading level0 row10\" >10</th>\n",
       "      <td id=\"T_30024_row10_col0\" class=\"data row10 col0\" >51991</td>\n",
       "      <td id=\"T_30024_row10_col1\" class=\"data row10 col1\" >32422</td>\n",
       "      <td id=\"T_30024_row10_col2\" class=\"data row10 col2\" >30210</td>\n",
       "      <td id=\"T_30024_row10_col3\" class=\"data row10 col3\" >22097</td>\n",
       "      <td id=\"T_30024_row10_col4\" class=\"data row10 col4\" >19236</td>\n",
       "      <td id=\"T_30024_row10_col5\" class=\"data row10 col5\" >10928</td>\n",
       "      <td id=\"T_30024_row10_col6\" class=\"data row10 col6\" >8516</td>\n",
       "    </tr>\n",
       "    <tr>\n",
       "      <th id=\"T_30024_level0_row11\" class=\"row_heading level0 row11\" >11</th>\n",
       "      <td id=\"T_30024_row11_col0\" class=\"data row11 col0\" >47658</td>\n",
       "      <td id=\"T_30024_row11_col1\" class=\"data row11 col1\" >29720</td>\n",
       "      <td id=\"T_30024_row11_col2\" class=\"data row11 col2\" >27693</td>\n",
       "      <td id=\"T_30024_row11_col3\" class=\"data row11 col3\" >20255</td>\n",
       "      <td id=\"T_30024_row11_col4\" class=\"data row11 col4\" >17633</td>\n",
       "      <td id=\"T_30024_row11_col5\" class=\"data row11 col5\" >10018</td>\n",
       "      <td id=\"T_30024_row11_col6\" class=\"data row11 col6\" >7806</td>\n",
       "    </tr>\n",
       "    <tr>\n",
       "      <th id=\"T_30024_level0_row12\" class=\"row_heading level0 row12\" >12</th>\n",
       "      <td id=\"T_30024_row12_col0\" class=\"data row12 col0\" >43992</td>\n",
       "      <td id=\"T_30024_row12_col1\" class=\"data row12 col1\" >27434</td>\n",
       "      <td id=\"T_30024_row12_col2\" class=\"data row12 col2\" >25563</td>\n",
       "      <td id=\"T_30024_row12_col3\" class=\"data row12 col3\" >18697</td>\n",
       "      <td id=\"T_30024_row12_col4\" class=\"data row12 col4\" >16276</td>\n",
       "      <td id=\"T_30024_row12_col5\" class=\"data row12 col5\" >9247</td>\n",
       "      <td id=\"T_30024_row12_col6\" class=\"data row12 col6\" >7206</td>\n",
       "    </tr>\n",
       "    <tr>\n",
       "      <th id=\"T_30024_level0_row13\" class=\"row_heading level0 row13\" >13</th>\n",
       "      <td id=\"T_30024_row13_col0\" class=\"data row13 col0\" >40850</td>\n",
       "      <td id=\"T_30024_row13_col1\" class=\"data row13 col1\" >25475</td>\n",
       "      <td id=\"T_30024_row13_col2\" class=\"data row13 col2\" >23737</td>\n",
       "      <td id=\"T_30024_row13_col3\" class=\"data row13 col3\" >17362</td>\n",
       "      <td id=\"T_30024_row13_col4\" class=\"data row13 col4\" >15114</td>\n",
       "      <td id=\"T_30024_row13_col5\" class=\"data row13 col5\" >8587</td>\n",
       "      <td id=\"T_30024_row13_col6\" class=\"data row13 col6\" >6691</td>\n",
       "    </tr>\n",
       "    <tr>\n",
       "      <th id=\"T_30024_level0_row14\" class=\"row_heading level0 row14\" >14</th>\n",
       "      <td id=\"T_30024_row14_col0\" class=\"data row14 col0\" >38127</td>\n",
       "      <td id=\"T_30024_row14_col1\" class=\"data row14 col1\" >23776</td>\n",
       "      <td id=\"T_30024_row14_col2\" class=\"data row14 col2\" >22154</td>\n",
       "      <td id=\"T_30024_row14_col3\" class=\"data row14 col3\" >16204</td>\n",
       "      <td id=\"T_30024_row14_col4\" class=\"data row14 col4\" >14106</td>\n",
       "      <td id=\"T_30024_row14_col5\" class=\"data row14 col5\" >8014</td>\n",
       "      <td id=\"T_30024_row14_col6\" class=\"data row14 col6\" >6245</td>\n",
       "    </tr>\n",
       "    <tr>\n",
       "      <th id=\"T_30024_level0_row15\" class=\"row_heading level0 row15\" >15</th>\n",
       "      <td id=\"T_30024_row15_col0\" class=\"data row15 col0\" >35744</td>\n",
       "      <td id=\"T_30024_row15_col1\" class=\"data row15 col1\" >22290</td>\n",
       "      <td id=\"T_30024_row15_col2\" class=\"data row15 col2\" >20770</td>\n",
       "      <td id=\"T_30024_row15_col3\" class=\"data row15 col3\" >15192</td>\n",
       "      <td id=\"T_30024_row15_col4\" class=\"data row15 col4\" >13225</td>\n",
       "      <td id=\"T_30024_row15_col5\" class=\"data row15 col5\" >7513</td>\n",
       "      <td id=\"T_30024_row15_col6\" class=\"data row15 col6\" >5855</td>\n",
       "    </tr>\n",
       "    <tr>\n",
       "      <th id=\"T_30024_level0_row16\" class=\"row_heading level0 row16\" >16</th>\n",
       "      <td id=\"T_30024_row16_col0\" class=\"data row16 col0\" >33641</td>\n",
       "      <td id=\"T_30024_row16_col1\" class=\"data row16 col1\" >20979</td>\n",
       "      <td id=\"T_30024_row16_col2\" class=\"data row16 col2\" >19548</td>\n",
       "      <td id=\"T_30024_row16_col3\" class=\"data row16 col3\" >14298</td>\n",
       "      <td id=\"T_30024_row16_col4\" class=\"data row16 col4\" >12447</td>\n",
       "      <td id=\"T_30024_row16_col5\" class=\"data row16 col5\" >7071</td>\n",
       "      <td id=\"T_30024_row16_col6\" class=\"data row16 col6\" >5510</td>\n",
       "    </tr>\n",
       "    <tr>\n",
       "      <th id=\"T_30024_level0_row17\" class=\"row_heading level0 row17\" >17</th>\n",
       "      <td id=\"T_30024_row17_col0\" class=\"data row17 col0\" >31772</td>\n",
       "      <td id=\"T_30024_row17_col1\" class=\"data row17 col1\" >19814</td>\n",
       "      <td id=\"T_30024_row17_col2\" class=\"data row17 col2\" >18462</td>\n",
       "      <td id=\"T_30024_row17_col3\" class=\"data row17 col3\" >13504</td>\n",
       "      <td id=\"T_30024_row17_col4\" class=\"data row17 col4\" >11755</td>\n",
       "      <td id=\"T_30024_row17_col5\" class=\"data row17 col5\" >6678</td>\n",
       "      <td id=\"T_30024_row17_col6\" class=\"data row17 col6\" >5204</td>\n",
       "    </tr>\n",
       "    <tr>\n",
       "      <th id=\"T_30024_level0_row18\" class=\"row_heading level0 row18\" >18</th>\n",
       "      <td id=\"T_30024_row18_col0\" class=\"data row18 col0\" >30100</td>\n",
       "      <td id=\"T_30024_row18_col1\" class=\"data row18 col1\" >18771</td>\n",
       "      <td id=\"T_30024_row18_col2\" class=\"data row18 col2\" >17490</td>\n",
       "      <td id=\"T_30024_row18_col3\" class=\"data row18 col3\" >12793</td>\n",
       "      <td id=\"T_30024_row18_col4\" class=\"data row18 col4\" >11136</td>\n",
       "      <td id=\"T_30024_row18_col5\" class=\"data row18 col5\" >6327</td>\n",
       "      <td id=\"T_30024_row18_col6\" class=\"data row18 col6\" >4930</td>\n",
       "    </tr>\n",
       "    <tr>\n",
       "      <th id=\"T_30024_level0_row19\" class=\"row_heading level0 row19\" >19</th>\n",
       "      <td id=\"T_30024_row19_col0\" class=\"data row19 col0\" >28595</td>\n",
       "      <td id=\"T_30024_row19_col1\" class=\"data row19 col1\" >17832</td>\n",
       "      <td id=\"T_30024_row19_col2\" class=\"data row19 col2\" >16616</td>\n",
       "      <td id=\"T_30024_row19_col3\" class=\"data row19 col3\" >12153</td>\n",
       "      <td id=\"T_30024_row19_col4\" class=\"data row19 col4\" >10580</td>\n",
       "      <td id=\"T_30024_row19_col5\" class=\"data row19 col5\" >6011</td>\n",
       "      <td id=\"T_30024_row19_col6\" class=\"data row19 col6\" >4684</td>\n",
       "    </tr>\n",
       "    <tr>\n",
       "      <th id=\"T_30024_level0_row20\" class=\"row_heading level0 row20\" >20</th>\n",
       "      <td id=\"T_30024_row20_col0\" class=\"data row20 col0\" >27233</td>\n",
       "      <td id=\"T_30024_row20_col1\" class=\"data row20 col1\" >16983</td>\n",
       "      <td id=\"T_30024_row20_col2\" class=\"data row20 col2\" >15824</td>\n",
       "      <td id=\"T_30024_row20_col3\" class=\"data row20 col3\" >11575</td>\n",
       "      <td id=\"T_30024_row20_col4\" class=\"data row20 col4\" >10076</td>\n",
       "      <td id=\"T_30024_row20_col5\" class=\"data row20 col5\" >5724</td>\n",
       "      <td id=\"T_30024_row20_col6\" class=\"data row20 col6\" >4461</td>\n",
       "    </tr>\n",
       "    <tr>\n",
       "      <th id=\"T_30024_level0_row21\" class=\"row_heading level0 row21\" >21</th>\n",
       "      <td id=\"T_30024_row21_col0\" class=\"data row21 col0\" >25996</td>\n",
       "      <td id=\"T_30024_row21_col1\" class=\"data row21 col1\" >16211</td>\n",
       "      <td id=\"T_30024_row21_col2\" class=\"data row21 col2\" >15105</td>\n",
       "      <td id=\"T_30024_row21_col3\" class=\"data row21 col3\" >11048</td>\n",
       "      <td id=\"T_30024_row21_col4\" class=\"data row21 col4\" >9618</td>\n",
       "      <td id=\"T_30024_row21_col5\" class=\"data row21 col5\" >5464</td>\n",
       "      <td id=\"T_30024_row21_col6\" class=\"data row21 col6\" >4258</td>\n",
       "    </tr>\n",
       "    <tr>\n",
       "      <th id=\"T_30024_level0_row22\" class=\"row_heading level0 row22\" >22</th>\n",
       "      <td id=\"T_30024_row22_col0\" class=\"data row22 col0\" >24865</td>\n",
       "      <td id=\"T_30024_row22_col1\" class=\"data row22 col1\" >15506</td>\n",
       "      <td id=\"T_30024_row22_col2\" class=\"data row22 col2\" >14448</td>\n",
       "      <td id=\"T_30024_row22_col3\" class=\"data row22 col3\" >10568</td>\n",
       "      <td id=\"T_30024_row22_col4\" class=\"data row22 col4\" >9200</td>\n",
       "      <td id=\"T_30024_row22_col5\" class=\"data row22 col5\" >5227</td>\n",
       "      <td id=\"T_30024_row22_col6\" class=\"data row22 col6\" >4073</td>\n",
       "    </tr>\n",
       "    <tr>\n",
       "      <th id=\"T_30024_level0_row23\" class=\"row_heading level0 row23\" >23</th>\n",
       "      <td id=\"T_30024_row23_col0\" class=\"data row23 col0\" >23829</td>\n",
       "      <td id=\"T_30024_row23_col1\" class=\"data row23 col1\" >14860</td>\n",
       "      <td id=\"T_30024_row23_col2\" class=\"data row23 col2\" >13846</td>\n",
       "      <td id=\"T_30024_row23_col3\" class=\"data row23 col3\" >10128</td>\n",
       "      <td id=\"T_30024_row23_col4\" class=\"data row23 col4\" >8816</td>\n",
       "      <td id=\"T_30024_row23_col5\" class=\"data row23 col5\" >5009</td>\n",
       "      <td id=\"T_30024_row23_col6\" class=\"data row23 col6\" >3903</td>\n",
       "    </tr>\n",
       "    <tr>\n",
       "      <th id=\"T_30024_level0_row24\" class=\"row_heading level0 row24\" >24</th>\n",
       "      <td id=\"T_30024_row24_col0\" class=\"data row24 col0\" >22876</td>\n",
       "      <td id=\"T_30024_row24_col1\" class=\"data row24 col1\" >14266</td>\n",
       "      <td id=\"T_30024_row24_col2\" class=\"data row24 col2\" >13293</td>\n",
       "      <td id=\"T_30024_row24_col3\" class=\"data row24 col3\" >9723</td>\n",
       "      <td id=\"T_30024_row24_col4\" class=\"data row24 col4\" >8464</td>\n",
       "      <td id=\"T_30024_row24_col5\" class=\"data row24 col5\" >4809</td>\n",
       "      <td id=\"T_30024_row24_col6\" class=\"data row24 col6\" >3747</td>\n",
       "    </tr>\n",
       "    <tr>\n",
       "      <th id=\"T_30024_level0_row25\" class=\"row_heading level0 row25\" >25</th>\n",
       "      <td id=\"T_30024_row25_col0\" class=\"data row25 col0\" >21996</td>\n",
       "      <td id=\"T_30024_row25_col1\" class=\"data row25 col1\" >13717</td>\n",
       "      <td id=\"T_30024_row25_col2\" class=\"data row25 col2\" >12781</td>\n",
       "      <td id=\"T_30024_row25_col3\" class=\"data row25 col3\" >9349</td>\n",
       "      <td id=\"T_30024_row25_col4\" class=\"data row25 col4\" >8138</td>\n",
       "      <td id=\"T_30024_row25_col5\" class=\"data row25 col5\" >4624</td>\n",
       "      <td id=\"T_30024_row25_col6\" class=\"data row25 col6\" >3603</td>\n",
       "    </tr>\n",
       "    <tr>\n",
       "      <th id=\"T_30024_level0_row26\" class=\"row_heading level0 row26\" >26</th>\n",
       "      <td id=\"T_30024_row26_col0\" class=\"data row26 col0\" >21182</td>\n",
       "      <td id=\"T_30024_row26_col1\" class=\"data row26 col1\" >13209</td>\n",
       "      <td id=\"T_30024_row26_col2\" class=\"data row26 col2\" >12308</td>\n",
       "      <td id=\"T_30024_row26_col3\" class=\"data row26 col3\" >9002</td>\n",
       "      <td id=\"T_30024_row26_col4\" class=\"data row26 col4\" >7837</td>\n",
       "      <td id=\"T_30024_row26_col5\" class=\"data row26 col5\" >4452</td>\n",
       "      <td id=\"T_30024_row26_col6\" class=\"data row26 col6\" >3469</td>\n",
       "    </tr>\n",
       "    <tr>\n",
       "      <th id=\"T_30024_level0_row27\" class=\"row_heading level0 row27\" >27</th>\n",
       "      <td id=\"T_30024_row27_col0\" class=\"data row27 col0\" >20425</td>\n",
       "      <td id=\"T_30024_row27_col1\" class=\"data row27 col1\" >12737</td>\n",
       "      <td id=\"T_30024_row27_col2\" class=\"data row27 col2\" >11868</td>\n",
       "      <td id=\"T_30024_row27_col3\" class=\"data row27 col3\" >8681</td>\n",
       "      <td id=\"T_30024_row27_col4\" class=\"data row27 col4\" >7557</td>\n",
       "      <td id=\"T_30024_row27_col5\" class=\"data row27 col5\" >4293</td>\n",
       "      <td id=\"T_30024_row27_col6\" class=\"data row27 col6\" >3346</td>\n",
       "    </tr>\n",
       "    <tr>\n",
       "      <th id=\"T_30024_level0_row28\" class=\"row_heading level0 row28\" >28</th>\n",
       "      <td id=\"T_30024_row28_col0\" class=\"data row28 col0\" >19721</td>\n",
       "      <td id=\"T_30024_row28_col1\" class=\"data row28 col1\" >12298</td>\n",
       "      <td id=\"T_30024_row28_col2\" class=\"data row28 col2\" >11459</td>\n",
       "      <td id=\"T_30024_row28_col3\" class=\"data row28 col3\" >8382</td>\n",
       "      <td id=\"T_30024_row28_col4\" class=\"data row28 col4\" >7296</td>\n",
       "      <td id=\"T_30024_row28_col5\" class=\"data row28 col5\" >4145</td>\n",
       "      <td id=\"T_30024_row28_col6\" class=\"data row28 col6\" >3230</td>\n",
       "    </tr>\n",
       "    <tr>\n",
       "      <th id=\"T_30024_level0_row29\" class=\"row_heading level0 row29\" >29</th>\n",
       "      <td id=\"T_30024_row29_col0\" class=\"data row29 col0\" >19063</td>\n",
       "      <td id=\"T_30024_row29_col1\" class=\"data row29 col1\" >11888</td>\n",
       "      <td id=\"T_30024_row29_col2\" class=\"data row29 col2\" >11077</td>\n",
       "      <td id=\"T_30024_row29_col3\" class=\"data row29 col3\" >8102</td>\n",
       "      <td id=\"T_30024_row29_col4\" class=\"data row29 col4\" >7053</td>\n",
       "      <td id=\"T_30024_row29_col5\" class=\"data row29 col5\" >4007</td>\n",
       "      <td id=\"T_30024_row29_col6\" class=\"data row29 col6\" >3122</td>\n",
       "    </tr>\n",
       "    <tr>\n",
       "      <th id=\"T_30024_level0_row30\" class=\"row_heading level0 row30\" >30</th>\n",
       "      <td id=\"T_30024_row30_col0\" class=\"data row30 col0\" >18448</td>\n",
       "      <td id=\"T_30024_row30_col1\" class=\"data row30 col1\" >11505</td>\n",
       "      <td id=\"T_30024_row30_col2\" class=\"data row30 col2\" >10720</td>\n",
       "      <td id=\"T_30024_row30_col3\" class=\"data row30 col3\" >7841</td>\n",
       "      <td id=\"T_30024_row30_col4\" class=\"data row30 col4\" >6826</td>\n",
       "      <td id=\"T_30024_row30_col5\" class=\"data row30 col5\" >3878</td>\n",
       "      <td id=\"T_30024_row30_col6\" class=\"data row30 col6\" >3022</td>\n",
       "    </tr>\n",
       "    <tr>\n",
       "      <th id=\"T_30024_level0_row31\" class=\"row_heading level0 row31\" >31</th>\n",
       "      <td id=\"T_30024_row31_col0\" class=\"data row31 col0\" >17872</td>\n",
       "      <td id=\"T_30024_row31_col1\" class=\"data row31 col1\" >11145</td>\n",
       "      <td id=\"T_30024_row31_col2\" class=\"data row31 col2\" >10385</td>\n",
       "      <td id=\"T_30024_row31_col3\" class=\"data row31 col3\" >7596</td>\n",
       "      <td id=\"T_30024_row31_col4\" class=\"data row31 col4\" >6612</td>\n",
       "      <td id=\"T_30024_row31_col5\" class=\"data row31 col5\" >3757</td>\n",
       "      <td id=\"T_30024_row31_col6\" class=\"data row31 col6\" >2927</td>\n",
       "    </tr>\n",
       "  </tbody>\n",
       "</table>\n"
      ],
      "text/plain": [
       "<pandas.io.formats.style.Styler at 0x1195ed9c0>"
      ]
     },
     "execution_count": 22,
     "metadata": {},
     "output_type": "execute_result"
    }
   ],
   "source": [
    "data.style.applymap(lambda x: 'background-color : green' if x>=limit else '')"
   ]
  },
  {
   "cell_type": "markdown",
   "id": "afa36df2-5964-4bcc-97c9-fe4183c620e7",
   "metadata": {},
   "source": [
    "<h4> Suposem increment abstenció vot independista 100%"
   ]
  },
  {
   "cell_type": "code",
   "execution_count": 23,
   "id": "05126b5c-20c1-4541-bd71-216133dc11b6",
   "metadata": {},
   "outputs": [],
   "source": [
    "increment_abstencio = 0"
   ]
  },
  {
   "cell_type": "markdown",
   "id": "160a75c4-2b84-4e7c-b1ff-bbe0b1aa8100",
   "metadata": {},
   "source": [
    "<h4>ERC"
   ]
  },
  {
   "cell_type": "code",
   "execution_count": 24,
   "id": "1d074e72-9ae2-4d59-bbed-2ac48ebca35a",
   "metadata": {},
   "outputs": [
    {
     "data": {
      "text/plain": [
       "332314"
      ]
     },
     "execution_count": 24,
     "metadata": {},
     "output_type": "execute_result"
    }
   ],
   "source": [
    "resultats_bcn[2] -= resultats_bcn[2] * increment_abstencio\n",
    "resultats_bcn[2]"
   ]
  },
  {
   "cell_type": "markdown",
   "id": "3addb563-ebc7-4ecb-88fd-ee2874542dfc",
   "metadata": {},
   "source": [
    "<h4> Junts"
   ]
  },
  {
   "cell_type": "code",
   "execution_count": 25,
   "id": "2027f6bd-2375-4338-a2a4-faca110ce016",
   "metadata": {},
   "outputs": [
    {
     "data": {
      "text/plain": [
       "356644"
      ]
     },
     "execution_count": 25,
     "metadata": {},
     "output_type": "execute_result"
    }
   ],
   "source": [
    "resultats_bcn[1] -= resultats_bcn[1]*increment_abstencio\n",
    "resultats_bcn[1]"
   ]
  },
  {
   "cell_type": "markdown",
   "id": "6f62081d-360a-4127-9991-860cffe051af",
   "metadata": {},
   "source": [
    "<h4> CUP"
   ]
  },
  {
   "cell_type": "code",
   "execution_count": 26,
   "id": "a6b5b640-2b6f-4fca-b86e-f121b2a55d95",
   "metadata": {},
   "outputs": [
    {
     "data": {
      "text/plain": [
       "0.0416118246435287"
      ]
     },
     "execution_count": 26,
     "metadata": {},
     "output_type": "execute_result"
    }
   ],
   "source": [
    "resultats_bcn[6] -= resultats_bcn[6]*increment_abstencio\n",
    "resultats_bcn[6]\n",
    "if resultats_bcn[6] < barcelona[0]*0.03:\n",
    "    resultats_bcn[6] = 0\n",
    "resultats_bcn[6]/barcelona[0]"
   ]
  },
  {
   "cell_type": "markdown",
   "id": "899a34ba-0009-4b03-84de-7dc6b21318d6",
   "metadata": {},
   "source": [
    "Quin percentatge d'abstenció s'aconsegueix amb una baixada del 10% de vot Indi"
   ]
  },
  {
   "cell_type": "code",
   "execution_count": 27,
   "id": "cdf9207e-15ec-422f-b396-936a1520822c",
   "metadata": {},
   "outputs": [
    {
     "name": "stdout",
     "output_type": "stream",
     "text": [
      "Augment abstenció quan els indepes perden 50% vots: 0.0 %\n"
     ]
    }
   ],
   "source": [
    "votIndiBcn_a = resultats_bcn[2] + resultats_bcn[1] + resultats_bcn[6]\n",
    "print(\"Augment abstenció quan els indepes perden 50% vots:\", round(100*(votIndiBcn_i - votIndiBcn_a)/barcelona[0],2),\"%\")"
   ]
  },
  {
   "cell_type": "code",
   "execution_count": 28,
   "id": "b4bc3499-aa97-49db-bce4-577e2256feb1",
   "metadata": {},
   "outputs": [
    {
     "data": {
      "text/html": [
       "<style type=\"text/css\">\n",
       "#T_24d3a_row0_col0, #T_24d3a_row0_col1, #T_24d3a_row0_col2, #T_24d3a_row0_col3, #T_24d3a_row0_col4, #T_24d3a_row0_col5, #T_24d3a_row0_col6, #T_24d3a_row1_col0, #T_24d3a_row1_col1, #T_24d3a_row1_col2, #T_24d3a_row1_col3, #T_24d3a_row1_col4, #T_24d3a_row1_col5, #T_24d3a_row2_col0, #T_24d3a_row2_col1, #T_24d3a_row2_col2, #T_24d3a_row2_col3, #T_24d3a_row2_col4, #T_24d3a_row3_col0, #T_24d3a_row3_col1, #T_24d3a_row3_col2, #T_24d3a_row3_col3, #T_24d3a_row4_col0, #T_24d3a_row4_col1, #T_24d3a_row4_col2, #T_24d3a_row5_col0, #T_24d3a_row5_col1, #T_24d3a_row5_col2, #T_24d3a_row6_col0, #T_24d3a_row7_col0, #T_24d3a_row8_col0, #T_24d3a_row9_col0 {\n",
       "  background-color: green;\n",
       "}\n",
       "</style>\n",
       "<table id=\"T_24d3a\">\n",
       "  <thead>\n",
       "    <tr>\n",
       "      <th class=\"blank level0\" >&nbsp;</th>\n",
       "      <th id=\"T_24d3a_level0_col0\" class=\"col_heading level0 col0\" >PSC</th>\n",
       "      <th id=\"T_24d3a_level0_col1\" class=\"col_heading level0 col1\" >Junts</th>\n",
       "      <th id=\"T_24d3a_level0_col2\" class=\"col_heading level0 col2\" >ERC</th>\n",
       "      <th id=\"T_24d3a_level0_col3\" class=\"col_heading level0 col3\" >Comuns</th>\n",
       "      <th id=\"T_24d3a_level0_col4\" class=\"col_heading level0 col4\" >PP</th>\n",
       "      <th id=\"T_24d3a_level0_col5\" class=\"col_heading level0 col5\" >VOX</th>\n",
       "      <th id=\"T_24d3a_level0_col6\" class=\"col_heading level0 col6\" >Cup</th>\n",
       "    </tr>\n",
       "  </thead>\n",
       "  <tbody>\n",
       "    <tr>\n",
       "      <th id=\"T_24d3a_level0_row0\" class=\"row_heading level0 row0\" >0</th>\n",
       "      <td id=\"T_24d3a_row0_col0\" class=\"data row0 col0\" >571901</td>\n",
       "      <td id=\"T_24d3a_row0_col1\" class=\"data row0 col1\" >356644</td>\n",
       "      <td id=\"T_24d3a_row0_col2\" class=\"data row0 col2\" >332314</td>\n",
       "      <td id=\"T_24d3a_row0_col3\" class=\"data row0 col3\" >243065</td>\n",
       "      <td id=\"T_24d3a_row0_col4\" class=\"data row0 col4\" >211593</td>\n",
       "      <td id=\"T_24d3a_row0_col5\" class=\"data row0 col5\" >120213</td>\n",
       "      <td id=\"T_24d3a_row0_col6\" class=\"data row0 col6\" >93675</td>\n",
       "    </tr>\n",
       "    <tr>\n",
       "      <th id=\"T_24d3a_level0_row1\" class=\"row_heading level0 row1\" >1</th>\n",
       "      <td id=\"T_24d3a_row1_col0\" class=\"data row1 col0\" >285950</td>\n",
       "      <td id=\"T_24d3a_row1_col1\" class=\"data row1 col1\" >178322</td>\n",
       "      <td id=\"T_24d3a_row1_col2\" class=\"data row1 col2\" >166157</td>\n",
       "      <td id=\"T_24d3a_row1_col3\" class=\"data row1 col3\" >121532</td>\n",
       "      <td id=\"T_24d3a_row1_col4\" class=\"data row1 col4\" >105796</td>\n",
       "      <td id=\"T_24d3a_row1_col5\" class=\"data row1 col5\" >60106</td>\n",
       "      <td id=\"T_24d3a_row1_col6\" class=\"data row1 col6\" >46838</td>\n",
       "    </tr>\n",
       "    <tr>\n",
       "      <th id=\"T_24d3a_level0_row2\" class=\"row_heading level0 row2\" >2</th>\n",
       "      <td id=\"T_24d3a_row2_col0\" class=\"data row2 col0\" >190634</td>\n",
       "      <td id=\"T_24d3a_row2_col1\" class=\"data row2 col1\" >118881</td>\n",
       "      <td id=\"T_24d3a_row2_col2\" class=\"data row2 col2\" >110771</td>\n",
       "      <td id=\"T_24d3a_row2_col3\" class=\"data row2 col3\" >81022</td>\n",
       "      <td id=\"T_24d3a_row2_col4\" class=\"data row2 col4\" >70531</td>\n",
       "      <td id=\"T_24d3a_row2_col5\" class=\"data row2 col5\" >40071</td>\n",
       "      <td id=\"T_24d3a_row2_col6\" class=\"data row2 col6\" >31225</td>\n",
       "    </tr>\n",
       "    <tr>\n",
       "      <th id=\"T_24d3a_level0_row3\" class=\"row_heading level0 row3\" >3</th>\n",
       "      <td id=\"T_24d3a_row3_col0\" class=\"data row3 col0\" >142975</td>\n",
       "      <td id=\"T_24d3a_row3_col1\" class=\"data row3 col1\" >89161</td>\n",
       "      <td id=\"T_24d3a_row3_col2\" class=\"data row3 col2\" >83078</td>\n",
       "      <td id=\"T_24d3a_row3_col3\" class=\"data row3 col3\" >60766</td>\n",
       "      <td id=\"T_24d3a_row3_col4\" class=\"data row3 col4\" >52898</td>\n",
       "      <td id=\"T_24d3a_row3_col5\" class=\"data row3 col5\" >30053</td>\n",
       "      <td id=\"T_24d3a_row3_col6\" class=\"data row3 col6\" >23419</td>\n",
       "    </tr>\n",
       "    <tr>\n",
       "      <th id=\"T_24d3a_level0_row4\" class=\"row_heading level0 row4\" >4</th>\n",
       "      <td id=\"T_24d3a_row4_col0\" class=\"data row4 col0\" >114380</td>\n",
       "      <td id=\"T_24d3a_row4_col1\" class=\"data row4 col1\" >71329</td>\n",
       "      <td id=\"T_24d3a_row4_col2\" class=\"data row4 col2\" >66463</td>\n",
       "      <td id=\"T_24d3a_row4_col3\" class=\"data row4 col3\" >48613</td>\n",
       "      <td id=\"T_24d3a_row4_col4\" class=\"data row4 col4\" >42319</td>\n",
       "      <td id=\"T_24d3a_row4_col5\" class=\"data row4 col5\" >24043</td>\n",
       "      <td id=\"T_24d3a_row4_col6\" class=\"data row4 col6\" >18735</td>\n",
       "    </tr>\n",
       "    <tr>\n",
       "      <th id=\"T_24d3a_level0_row5\" class=\"row_heading level0 row5\" >5</th>\n",
       "      <td id=\"T_24d3a_row5_col0\" class=\"data row5 col0\" >95317</td>\n",
       "      <td id=\"T_24d3a_row5_col1\" class=\"data row5 col1\" >59441</td>\n",
       "      <td id=\"T_24d3a_row5_col2\" class=\"data row5 col2\" >55386</td>\n",
       "      <td id=\"T_24d3a_row5_col3\" class=\"data row5 col3\" >40511</td>\n",
       "      <td id=\"T_24d3a_row5_col4\" class=\"data row5 col4\" >35266</td>\n",
       "      <td id=\"T_24d3a_row5_col5\" class=\"data row5 col5\" >20036</td>\n",
       "      <td id=\"T_24d3a_row5_col6\" class=\"data row5 col6\" >15612</td>\n",
       "    </tr>\n",
       "    <tr>\n",
       "      <th id=\"T_24d3a_level0_row6\" class=\"row_heading level0 row6\" >6</th>\n",
       "      <td id=\"T_24d3a_row6_col0\" class=\"data row6 col0\" >81700</td>\n",
       "      <td id=\"T_24d3a_row6_col1\" class=\"data row6 col1\" >50949</td>\n",
       "      <td id=\"T_24d3a_row6_col2\" class=\"data row6 col2\" >47473</td>\n",
       "      <td id=\"T_24d3a_row6_col3\" class=\"data row6 col3\" >34724</td>\n",
       "      <td id=\"T_24d3a_row6_col4\" class=\"data row6 col4\" >30228</td>\n",
       "      <td id=\"T_24d3a_row6_col5\" class=\"data row6 col5\" >17173</td>\n",
       "      <td id=\"T_24d3a_row6_col6\" class=\"data row6 col6\" >13382</td>\n",
       "    </tr>\n",
       "    <tr>\n",
       "      <th id=\"T_24d3a_level0_row7\" class=\"row_heading level0 row7\" >7</th>\n",
       "      <td id=\"T_24d3a_row7_col0\" class=\"data row7 col0\" >71488</td>\n",
       "      <td id=\"T_24d3a_row7_col1\" class=\"data row7 col1\" >44580</td>\n",
       "      <td id=\"T_24d3a_row7_col2\" class=\"data row7 col2\" >41539</td>\n",
       "      <td id=\"T_24d3a_row7_col3\" class=\"data row7 col3\" >30383</td>\n",
       "      <td id=\"T_24d3a_row7_col4\" class=\"data row7 col4\" >26449</td>\n",
       "      <td id=\"T_24d3a_row7_col5\" class=\"data row7 col5\" >15027</td>\n",
       "      <td id=\"T_24d3a_row7_col6\" class=\"data row7 col6\" >11709</td>\n",
       "    </tr>\n",
       "    <tr>\n",
       "      <th id=\"T_24d3a_level0_row8\" class=\"row_heading level0 row8\" >8</th>\n",
       "      <td id=\"T_24d3a_row8_col0\" class=\"data row8 col0\" >63545</td>\n",
       "      <td id=\"T_24d3a_row8_col1\" class=\"data row8 col1\" >39627</td>\n",
       "      <td id=\"T_24d3a_row8_col2\" class=\"data row8 col2\" >36924</td>\n",
       "      <td id=\"T_24d3a_row8_col3\" class=\"data row8 col3\" >27007</td>\n",
       "      <td id=\"T_24d3a_row8_col4\" class=\"data row8 col4\" >23510</td>\n",
       "      <td id=\"T_24d3a_row8_col5\" class=\"data row8 col5\" >13357</td>\n",
       "      <td id=\"T_24d3a_row8_col6\" class=\"data row8 col6\" >10408</td>\n",
       "    </tr>\n",
       "    <tr>\n",
       "      <th id=\"T_24d3a_level0_row9\" class=\"row_heading level0 row9\" >9</th>\n",
       "      <td id=\"T_24d3a_row9_col0\" class=\"data row9 col0\" >57190</td>\n",
       "      <td id=\"T_24d3a_row9_col1\" class=\"data row9 col1\" >35664</td>\n",
       "      <td id=\"T_24d3a_row9_col2\" class=\"data row9 col2\" >33231</td>\n",
       "      <td id=\"T_24d3a_row9_col3\" class=\"data row9 col3\" >24306</td>\n",
       "      <td id=\"T_24d3a_row9_col4\" class=\"data row9 col4\" >21159</td>\n",
       "      <td id=\"T_24d3a_row9_col5\" class=\"data row9 col5\" >12021</td>\n",
       "      <td id=\"T_24d3a_row9_col6\" class=\"data row9 col6\" >9368</td>\n",
       "    </tr>\n",
       "    <tr>\n",
       "      <th id=\"T_24d3a_level0_row10\" class=\"row_heading level0 row10\" >10</th>\n",
       "      <td id=\"T_24d3a_row10_col0\" class=\"data row10 col0\" >51991</td>\n",
       "      <td id=\"T_24d3a_row10_col1\" class=\"data row10 col1\" >32422</td>\n",
       "      <td id=\"T_24d3a_row10_col2\" class=\"data row10 col2\" >30210</td>\n",
       "      <td id=\"T_24d3a_row10_col3\" class=\"data row10 col3\" >22097</td>\n",
       "      <td id=\"T_24d3a_row10_col4\" class=\"data row10 col4\" >19236</td>\n",
       "      <td id=\"T_24d3a_row10_col5\" class=\"data row10 col5\" >10928</td>\n",
       "      <td id=\"T_24d3a_row10_col6\" class=\"data row10 col6\" >8516</td>\n",
       "    </tr>\n",
       "    <tr>\n",
       "      <th id=\"T_24d3a_level0_row11\" class=\"row_heading level0 row11\" >11</th>\n",
       "      <td id=\"T_24d3a_row11_col0\" class=\"data row11 col0\" >47658</td>\n",
       "      <td id=\"T_24d3a_row11_col1\" class=\"data row11 col1\" >29720</td>\n",
       "      <td id=\"T_24d3a_row11_col2\" class=\"data row11 col2\" >27693</td>\n",
       "      <td id=\"T_24d3a_row11_col3\" class=\"data row11 col3\" >20255</td>\n",
       "      <td id=\"T_24d3a_row11_col4\" class=\"data row11 col4\" >17633</td>\n",
       "      <td id=\"T_24d3a_row11_col5\" class=\"data row11 col5\" >10018</td>\n",
       "      <td id=\"T_24d3a_row11_col6\" class=\"data row11 col6\" >7806</td>\n",
       "    </tr>\n",
       "    <tr>\n",
       "      <th id=\"T_24d3a_level0_row12\" class=\"row_heading level0 row12\" >12</th>\n",
       "      <td id=\"T_24d3a_row12_col0\" class=\"data row12 col0\" >43992</td>\n",
       "      <td id=\"T_24d3a_row12_col1\" class=\"data row12 col1\" >27434</td>\n",
       "      <td id=\"T_24d3a_row12_col2\" class=\"data row12 col2\" >25563</td>\n",
       "      <td id=\"T_24d3a_row12_col3\" class=\"data row12 col3\" >18697</td>\n",
       "      <td id=\"T_24d3a_row12_col4\" class=\"data row12 col4\" >16276</td>\n",
       "      <td id=\"T_24d3a_row12_col5\" class=\"data row12 col5\" >9247</td>\n",
       "      <td id=\"T_24d3a_row12_col6\" class=\"data row12 col6\" >7206</td>\n",
       "    </tr>\n",
       "    <tr>\n",
       "      <th id=\"T_24d3a_level0_row13\" class=\"row_heading level0 row13\" >13</th>\n",
       "      <td id=\"T_24d3a_row13_col0\" class=\"data row13 col0\" >40850</td>\n",
       "      <td id=\"T_24d3a_row13_col1\" class=\"data row13 col1\" >25475</td>\n",
       "      <td id=\"T_24d3a_row13_col2\" class=\"data row13 col2\" >23737</td>\n",
       "      <td id=\"T_24d3a_row13_col3\" class=\"data row13 col3\" >17362</td>\n",
       "      <td id=\"T_24d3a_row13_col4\" class=\"data row13 col4\" >15114</td>\n",
       "      <td id=\"T_24d3a_row13_col5\" class=\"data row13 col5\" >8587</td>\n",
       "      <td id=\"T_24d3a_row13_col6\" class=\"data row13 col6\" >6691</td>\n",
       "    </tr>\n",
       "    <tr>\n",
       "      <th id=\"T_24d3a_level0_row14\" class=\"row_heading level0 row14\" >14</th>\n",
       "      <td id=\"T_24d3a_row14_col0\" class=\"data row14 col0\" >38127</td>\n",
       "      <td id=\"T_24d3a_row14_col1\" class=\"data row14 col1\" >23776</td>\n",
       "      <td id=\"T_24d3a_row14_col2\" class=\"data row14 col2\" >22154</td>\n",
       "      <td id=\"T_24d3a_row14_col3\" class=\"data row14 col3\" >16204</td>\n",
       "      <td id=\"T_24d3a_row14_col4\" class=\"data row14 col4\" >14106</td>\n",
       "      <td id=\"T_24d3a_row14_col5\" class=\"data row14 col5\" >8014</td>\n",
       "      <td id=\"T_24d3a_row14_col6\" class=\"data row14 col6\" >6245</td>\n",
       "    </tr>\n",
       "    <tr>\n",
       "      <th id=\"T_24d3a_level0_row15\" class=\"row_heading level0 row15\" >15</th>\n",
       "      <td id=\"T_24d3a_row15_col0\" class=\"data row15 col0\" >35744</td>\n",
       "      <td id=\"T_24d3a_row15_col1\" class=\"data row15 col1\" >22290</td>\n",
       "      <td id=\"T_24d3a_row15_col2\" class=\"data row15 col2\" >20770</td>\n",
       "      <td id=\"T_24d3a_row15_col3\" class=\"data row15 col3\" >15192</td>\n",
       "      <td id=\"T_24d3a_row15_col4\" class=\"data row15 col4\" >13225</td>\n",
       "      <td id=\"T_24d3a_row15_col5\" class=\"data row15 col5\" >7513</td>\n",
       "      <td id=\"T_24d3a_row15_col6\" class=\"data row15 col6\" >5855</td>\n",
       "    </tr>\n",
       "    <tr>\n",
       "      <th id=\"T_24d3a_level0_row16\" class=\"row_heading level0 row16\" >16</th>\n",
       "      <td id=\"T_24d3a_row16_col0\" class=\"data row16 col0\" >33641</td>\n",
       "      <td id=\"T_24d3a_row16_col1\" class=\"data row16 col1\" >20979</td>\n",
       "      <td id=\"T_24d3a_row16_col2\" class=\"data row16 col2\" >19548</td>\n",
       "      <td id=\"T_24d3a_row16_col3\" class=\"data row16 col3\" >14298</td>\n",
       "      <td id=\"T_24d3a_row16_col4\" class=\"data row16 col4\" >12447</td>\n",
       "      <td id=\"T_24d3a_row16_col5\" class=\"data row16 col5\" >7071</td>\n",
       "      <td id=\"T_24d3a_row16_col6\" class=\"data row16 col6\" >5510</td>\n",
       "    </tr>\n",
       "    <tr>\n",
       "      <th id=\"T_24d3a_level0_row17\" class=\"row_heading level0 row17\" >17</th>\n",
       "      <td id=\"T_24d3a_row17_col0\" class=\"data row17 col0\" >31772</td>\n",
       "      <td id=\"T_24d3a_row17_col1\" class=\"data row17 col1\" >19814</td>\n",
       "      <td id=\"T_24d3a_row17_col2\" class=\"data row17 col2\" >18462</td>\n",
       "      <td id=\"T_24d3a_row17_col3\" class=\"data row17 col3\" >13504</td>\n",
       "      <td id=\"T_24d3a_row17_col4\" class=\"data row17 col4\" >11755</td>\n",
       "      <td id=\"T_24d3a_row17_col5\" class=\"data row17 col5\" >6678</td>\n",
       "      <td id=\"T_24d3a_row17_col6\" class=\"data row17 col6\" >5204</td>\n",
       "    </tr>\n",
       "    <tr>\n",
       "      <th id=\"T_24d3a_level0_row18\" class=\"row_heading level0 row18\" >18</th>\n",
       "      <td id=\"T_24d3a_row18_col0\" class=\"data row18 col0\" >30100</td>\n",
       "      <td id=\"T_24d3a_row18_col1\" class=\"data row18 col1\" >18771</td>\n",
       "      <td id=\"T_24d3a_row18_col2\" class=\"data row18 col2\" >17490</td>\n",
       "      <td id=\"T_24d3a_row18_col3\" class=\"data row18 col3\" >12793</td>\n",
       "      <td id=\"T_24d3a_row18_col4\" class=\"data row18 col4\" >11136</td>\n",
       "      <td id=\"T_24d3a_row18_col5\" class=\"data row18 col5\" >6327</td>\n",
       "      <td id=\"T_24d3a_row18_col6\" class=\"data row18 col6\" >4930</td>\n",
       "    </tr>\n",
       "    <tr>\n",
       "      <th id=\"T_24d3a_level0_row19\" class=\"row_heading level0 row19\" >19</th>\n",
       "      <td id=\"T_24d3a_row19_col0\" class=\"data row19 col0\" >28595</td>\n",
       "      <td id=\"T_24d3a_row19_col1\" class=\"data row19 col1\" >17832</td>\n",
       "      <td id=\"T_24d3a_row19_col2\" class=\"data row19 col2\" >16616</td>\n",
       "      <td id=\"T_24d3a_row19_col3\" class=\"data row19 col3\" >12153</td>\n",
       "      <td id=\"T_24d3a_row19_col4\" class=\"data row19 col4\" >10580</td>\n",
       "      <td id=\"T_24d3a_row19_col5\" class=\"data row19 col5\" >6011</td>\n",
       "      <td id=\"T_24d3a_row19_col6\" class=\"data row19 col6\" >4684</td>\n",
       "    </tr>\n",
       "    <tr>\n",
       "      <th id=\"T_24d3a_level0_row20\" class=\"row_heading level0 row20\" >20</th>\n",
       "      <td id=\"T_24d3a_row20_col0\" class=\"data row20 col0\" >27233</td>\n",
       "      <td id=\"T_24d3a_row20_col1\" class=\"data row20 col1\" >16983</td>\n",
       "      <td id=\"T_24d3a_row20_col2\" class=\"data row20 col2\" >15824</td>\n",
       "      <td id=\"T_24d3a_row20_col3\" class=\"data row20 col3\" >11575</td>\n",
       "      <td id=\"T_24d3a_row20_col4\" class=\"data row20 col4\" >10076</td>\n",
       "      <td id=\"T_24d3a_row20_col5\" class=\"data row20 col5\" >5724</td>\n",
       "      <td id=\"T_24d3a_row20_col6\" class=\"data row20 col6\" >4461</td>\n",
       "    </tr>\n",
       "    <tr>\n",
       "      <th id=\"T_24d3a_level0_row21\" class=\"row_heading level0 row21\" >21</th>\n",
       "      <td id=\"T_24d3a_row21_col0\" class=\"data row21 col0\" >25996</td>\n",
       "      <td id=\"T_24d3a_row21_col1\" class=\"data row21 col1\" >16211</td>\n",
       "      <td id=\"T_24d3a_row21_col2\" class=\"data row21 col2\" >15105</td>\n",
       "      <td id=\"T_24d3a_row21_col3\" class=\"data row21 col3\" >11048</td>\n",
       "      <td id=\"T_24d3a_row21_col4\" class=\"data row21 col4\" >9618</td>\n",
       "      <td id=\"T_24d3a_row21_col5\" class=\"data row21 col5\" >5464</td>\n",
       "      <td id=\"T_24d3a_row21_col6\" class=\"data row21 col6\" >4258</td>\n",
       "    </tr>\n",
       "    <tr>\n",
       "      <th id=\"T_24d3a_level0_row22\" class=\"row_heading level0 row22\" >22</th>\n",
       "      <td id=\"T_24d3a_row22_col0\" class=\"data row22 col0\" >24865</td>\n",
       "      <td id=\"T_24d3a_row22_col1\" class=\"data row22 col1\" >15506</td>\n",
       "      <td id=\"T_24d3a_row22_col2\" class=\"data row22 col2\" >14448</td>\n",
       "      <td id=\"T_24d3a_row22_col3\" class=\"data row22 col3\" >10568</td>\n",
       "      <td id=\"T_24d3a_row22_col4\" class=\"data row22 col4\" >9200</td>\n",
       "      <td id=\"T_24d3a_row22_col5\" class=\"data row22 col5\" >5227</td>\n",
       "      <td id=\"T_24d3a_row22_col6\" class=\"data row22 col6\" >4073</td>\n",
       "    </tr>\n",
       "    <tr>\n",
       "      <th id=\"T_24d3a_level0_row23\" class=\"row_heading level0 row23\" >23</th>\n",
       "      <td id=\"T_24d3a_row23_col0\" class=\"data row23 col0\" >23829</td>\n",
       "      <td id=\"T_24d3a_row23_col1\" class=\"data row23 col1\" >14860</td>\n",
       "      <td id=\"T_24d3a_row23_col2\" class=\"data row23 col2\" >13846</td>\n",
       "      <td id=\"T_24d3a_row23_col3\" class=\"data row23 col3\" >10128</td>\n",
       "      <td id=\"T_24d3a_row23_col4\" class=\"data row23 col4\" >8816</td>\n",
       "      <td id=\"T_24d3a_row23_col5\" class=\"data row23 col5\" >5009</td>\n",
       "      <td id=\"T_24d3a_row23_col6\" class=\"data row23 col6\" >3903</td>\n",
       "    </tr>\n",
       "    <tr>\n",
       "      <th id=\"T_24d3a_level0_row24\" class=\"row_heading level0 row24\" >24</th>\n",
       "      <td id=\"T_24d3a_row24_col0\" class=\"data row24 col0\" >22876</td>\n",
       "      <td id=\"T_24d3a_row24_col1\" class=\"data row24 col1\" >14266</td>\n",
       "      <td id=\"T_24d3a_row24_col2\" class=\"data row24 col2\" >13293</td>\n",
       "      <td id=\"T_24d3a_row24_col3\" class=\"data row24 col3\" >9723</td>\n",
       "      <td id=\"T_24d3a_row24_col4\" class=\"data row24 col4\" >8464</td>\n",
       "      <td id=\"T_24d3a_row24_col5\" class=\"data row24 col5\" >4809</td>\n",
       "      <td id=\"T_24d3a_row24_col6\" class=\"data row24 col6\" >3747</td>\n",
       "    </tr>\n",
       "    <tr>\n",
       "      <th id=\"T_24d3a_level0_row25\" class=\"row_heading level0 row25\" >25</th>\n",
       "      <td id=\"T_24d3a_row25_col0\" class=\"data row25 col0\" >21996</td>\n",
       "      <td id=\"T_24d3a_row25_col1\" class=\"data row25 col1\" >13717</td>\n",
       "      <td id=\"T_24d3a_row25_col2\" class=\"data row25 col2\" >12781</td>\n",
       "      <td id=\"T_24d3a_row25_col3\" class=\"data row25 col3\" >9349</td>\n",
       "      <td id=\"T_24d3a_row25_col4\" class=\"data row25 col4\" >8138</td>\n",
       "      <td id=\"T_24d3a_row25_col5\" class=\"data row25 col5\" >4624</td>\n",
       "      <td id=\"T_24d3a_row25_col6\" class=\"data row25 col6\" >3603</td>\n",
       "    </tr>\n",
       "    <tr>\n",
       "      <th id=\"T_24d3a_level0_row26\" class=\"row_heading level0 row26\" >26</th>\n",
       "      <td id=\"T_24d3a_row26_col0\" class=\"data row26 col0\" >21182</td>\n",
       "      <td id=\"T_24d3a_row26_col1\" class=\"data row26 col1\" >13209</td>\n",
       "      <td id=\"T_24d3a_row26_col2\" class=\"data row26 col2\" >12308</td>\n",
       "      <td id=\"T_24d3a_row26_col3\" class=\"data row26 col3\" >9002</td>\n",
       "      <td id=\"T_24d3a_row26_col4\" class=\"data row26 col4\" >7837</td>\n",
       "      <td id=\"T_24d3a_row26_col5\" class=\"data row26 col5\" >4452</td>\n",
       "      <td id=\"T_24d3a_row26_col6\" class=\"data row26 col6\" >3469</td>\n",
       "    </tr>\n",
       "    <tr>\n",
       "      <th id=\"T_24d3a_level0_row27\" class=\"row_heading level0 row27\" >27</th>\n",
       "      <td id=\"T_24d3a_row27_col0\" class=\"data row27 col0\" >20425</td>\n",
       "      <td id=\"T_24d3a_row27_col1\" class=\"data row27 col1\" >12737</td>\n",
       "      <td id=\"T_24d3a_row27_col2\" class=\"data row27 col2\" >11868</td>\n",
       "      <td id=\"T_24d3a_row27_col3\" class=\"data row27 col3\" >8681</td>\n",
       "      <td id=\"T_24d3a_row27_col4\" class=\"data row27 col4\" >7557</td>\n",
       "      <td id=\"T_24d3a_row27_col5\" class=\"data row27 col5\" >4293</td>\n",
       "      <td id=\"T_24d3a_row27_col6\" class=\"data row27 col6\" >3346</td>\n",
       "    </tr>\n",
       "    <tr>\n",
       "      <th id=\"T_24d3a_level0_row28\" class=\"row_heading level0 row28\" >28</th>\n",
       "      <td id=\"T_24d3a_row28_col0\" class=\"data row28 col0\" >19721</td>\n",
       "      <td id=\"T_24d3a_row28_col1\" class=\"data row28 col1\" >12298</td>\n",
       "      <td id=\"T_24d3a_row28_col2\" class=\"data row28 col2\" >11459</td>\n",
       "      <td id=\"T_24d3a_row28_col3\" class=\"data row28 col3\" >8382</td>\n",
       "      <td id=\"T_24d3a_row28_col4\" class=\"data row28 col4\" >7296</td>\n",
       "      <td id=\"T_24d3a_row28_col5\" class=\"data row28 col5\" >4145</td>\n",
       "      <td id=\"T_24d3a_row28_col6\" class=\"data row28 col6\" >3230</td>\n",
       "    </tr>\n",
       "    <tr>\n",
       "      <th id=\"T_24d3a_level0_row29\" class=\"row_heading level0 row29\" >29</th>\n",
       "      <td id=\"T_24d3a_row29_col0\" class=\"data row29 col0\" >19063</td>\n",
       "      <td id=\"T_24d3a_row29_col1\" class=\"data row29 col1\" >11888</td>\n",
       "      <td id=\"T_24d3a_row29_col2\" class=\"data row29 col2\" >11077</td>\n",
       "      <td id=\"T_24d3a_row29_col3\" class=\"data row29 col3\" >8102</td>\n",
       "      <td id=\"T_24d3a_row29_col4\" class=\"data row29 col4\" >7053</td>\n",
       "      <td id=\"T_24d3a_row29_col5\" class=\"data row29 col5\" >4007</td>\n",
       "      <td id=\"T_24d3a_row29_col6\" class=\"data row29 col6\" >3122</td>\n",
       "    </tr>\n",
       "    <tr>\n",
       "      <th id=\"T_24d3a_level0_row30\" class=\"row_heading level0 row30\" >30</th>\n",
       "      <td id=\"T_24d3a_row30_col0\" class=\"data row30 col0\" >18448</td>\n",
       "      <td id=\"T_24d3a_row30_col1\" class=\"data row30 col1\" >11505</td>\n",
       "      <td id=\"T_24d3a_row30_col2\" class=\"data row30 col2\" >10720</td>\n",
       "      <td id=\"T_24d3a_row30_col3\" class=\"data row30 col3\" >7841</td>\n",
       "      <td id=\"T_24d3a_row30_col4\" class=\"data row30 col4\" >6826</td>\n",
       "      <td id=\"T_24d3a_row30_col5\" class=\"data row30 col5\" >3878</td>\n",
       "      <td id=\"T_24d3a_row30_col6\" class=\"data row30 col6\" >3022</td>\n",
       "    </tr>\n",
       "    <tr>\n",
       "      <th id=\"T_24d3a_level0_row31\" class=\"row_heading level0 row31\" >31</th>\n",
       "      <td id=\"T_24d3a_row31_col0\" class=\"data row31 col0\" >17872</td>\n",
       "      <td id=\"T_24d3a_row31_col1\" class=\"data row31 col1\" >11145</td>\n",
       "      <td id=\"T_24d3a_row31_col2\" class=\"data row31 col2\" >10385</td>\n",
       "      <td id=\"T_24d3a_row31_col3\" class=\"data row31 col3\" >7596</td>\n",
       "      <td id=\"T_24d3a_row31_col4\" class=\"data row31 col4\" >6612</td>\n",
       "      <td id=\"T_24d3a_row31_col5\" class=\"data row31 col5\" >3757</td>\n",
       "      <td id=\"T_24d3a_row31_col6\" class=\"data row31 col6\" >2927</td>\n",
       "    </tr>\n",
       "  </tbody>\n",
       "</table>\n"
      ],
      "text/plain": [
       "<pandas.io.formats.style.Styler at 0x1195ec3a0>"
      ]
     },
     "execution_count": 28,
     "metadata": {},
     "output_type": "execute_result"
    }
   ],
   "source": [
    "res = []\n",
    "tmp = []\n",
    "\n",
    "tmp2=[]\n",
    "for i in range(1,vots_a_repartir+1):\n",
    "    for j in range(len(resultats_bcn)):\n",
    "         tmp.append(round((resultats_bcn[j]/i)))\n",
    "         tmp2.append(round((resultats_bcn[j]/i)))\n",
    "    res.append(tmp)\n",
    "    tmp = []\n",
    "tmp2 = sorted(tmp2,reverse=True)\n",
    "limit = tmp2[vots_a_repartir-1]\n",
    "data = pd.DataFrame(res, columns=columns)\n",
    "data\n",
    "\n",
    "data.style.applymap(lambda x: 'background-color : green' if x>=limit else '')"
   ]
  },
  {
   "cell_type": "markdown",
   "id": "5e0b61ad-5167-4660-abc2-f375e7cac799",
   "metadata": {},
   "source": [
    "<h3> Girona"
   ]
  },
  {
   "cell_type": "code",
   "execution_count": 29,
   "id": "5ad6f151-d0f5-40d2-9af2-1adb80740024",
   "metadata": {},
   "outputs": [
    {
     "data": {
      "text/plain": [
       "[0.28, 0.22, 0.14, 0.08, 0.04, 0.03]"
      ]
     },
     "execution_count": 29,
     "metadata": {},
     "output_type": "execute_result"
    }
   ],
   "source": [
    "resGirona = [80488, 64658, 40045, 23236, 12787, 8608]\n",
    "colGirona = [\"ERC\",\"PSC\",\"JUNTS\",\"Comuns\",\"CUP\",\"PP\"]\n",
    "girona = [290300, 244718, 6306, 5851]\n",
    "#[Vots totals,Abstencions,Vots en blanc,Vots nuls]\n",
    "percentatgeGirona = [] \n",
    "for i in range(len(resGirona)):\n",
    "    percentatgeGirona.append(round(resGirona[i]/girona[0],2)) \n",
    "percentatgeGirona"
   ]
  },
  {
   "cell_type": "code",
   "execution_count": 30,
   "id": "bcc69dbf-6dae-4f5b-9b69-37571b4b9b51",
   "metadata": {},
   "outputs": [
    {
     "data": {
      "text/plain": [
       "0.46"
      ]
     },
     "execution_count": 30,
     "metadata": {},
     "output_type": "execute_result"
    }
   ],
   "source": [
    "votIndiGirona_i = resGirona[0] + resGirona[2] + resGirona[4]\n",
    "percentatge_indiGirona = round(votIndiGirona_i/girona[0],2)\n",
    "percentatge_indiGirona"
   ]
  },
  {
   "cell_type": "code",
   "execution_count": 31,
   "id": "f1f56335-775b-4340-b284-628ae6263181",
   "metadata": {},
   "outputs": [],
   "source": [
    "vots_a_repartir = 6"
   ]
  },
  {
   "cell_type": "code",
   "execution_count": 32,
   "id": "84d47016-1de8-4650-80a8-70331aeb6cbb",
   "metadata": {},
   "outputs": [
    {
     "name": "stdout",
     "output_type": "stream",
     "text": [
      "[80488, 64658, 40045, 23236, 12787, 8608, 40244, 32329, 20022, 11618, 6394, 4304, 26829, 21553, 13348, 7745, 4262, 2869, 20122, 16164, 10011, 5809, 3197, 2152, 16098, 12932, 8009, 4647, 2557, 1722, 13415, 10776, 6674, 3873, 2131, 1435]\n"
     ]
    }
   ],
   "source": [
    "res = []\n",
    "tmp = []\n",
    "tmp2=[]\n",
    "for i in range(1,vots_a_repartir+1):\n",
    "    for j in range(len(resGirona)):\n",
    "        tmp.append(round((resGirona[j]/i)))\n",
    "        tmp2.append(round((resGirona[j]/i)))\n",
    "    res.append(tmp)\n",
    "    tmp = []\n",
    "print(tmp2) \n"
   ]
  },
  {
   "cell_type": "code",
   "execution_count": 34,
   "id": "e1687234-1950-491a-b442-2ad26bb6a426",
   "metadata": {},
   "outputs": [
    {
     "data": {
      "text/html": [
       "<style type=\"text/css\">\n",
       "#T_10045_row0_col0, #T_10045_row0_col1, #T_10045_row0_col2, #T_10045_row1_col0, #T_10045_row1_col1, #T_10045_row2_col0 {\n",
       "  background-color: green;\n",
       "}\n",
       "</style>\n",
       "<table id=\"T_10045\">\n",
       "  <thead>\n",
       "    <tr>\n",
       "      <th class=\"blank level0\" >&nbsp;</th>\n",
       "      <th id=\"T_10045_level0_col0\" class=\"col_heading level0 col0\" >ERC</th>\n",
       "      <th id=\"T_10045_level0_col1\" class=\"col_heading level0 col1\" >PSC</th>\n",
       "      <th id=\"T_10045_level0_col2\" class=\"col_heading level0 col2\" >JUNTS</th>\n",
       "      <th id=\"T_10045_level0_col3\" class=\"col_heading level0 col3\" >Comuns</th>\n",
       "      <th id=\"T_10045_level0_col4\" class=\"col_heading level0 col4\" >CUP</th>\n",
       "      <th id=\"T_10045_level0_col5\" class=\"col_heading level0 col5\" >PP</th>\n",
       "    </tr>\n",
       "  </thead>\n",
       "  <tbody>\n",
       "    <tr>\n",
       "      <th id=\"T_10045_level0_row0\" class=\"row_heading level0 row0\" >0</th>\n",
       "      <td id=\"T_10045_row0_col0\" class=\"data row0 col0\" >80488</td>\n",
       "      <td id=\"T_10045_row0_col1\" class=\"data row0 col1\" >64658</td>\n",
       "      <td id=\"T_10045_row0_col2\" class=\"data row0 col2\" >40045</td>\n",
       "      <td id=\"T_10045_row0_col3\" class=\"data row0 col3\" >23236</td>\n",
       "      <td id=\"T_10045_row0_col4\" class=\"data row0 col4\" >12787</td>\n",
       "      <td id=\"T_10045_row0_col5\" class=\"data row0 col5\" >8608</td>\n",
       "    </tr>\n",
       "    <tr>\n",
       "      <th id=\"T_10045_level0_row1\" class=\"row_heading level0 row1\" >1</th>\n",
       "      <td id=\"T_10045_row1_col0\" class=\"data row1 col0\" >40244</td>\n",
       "      <td id=\"T_10045_row1_col1\" class=\"data row1 col1\" >32329</td>\n",
       "      <td id=\"T_10045_row1_col2\" class=\"data row1 col2\" >20022</td>\n",
       "      <td id=\"T_10045_row1_col3\" class=\"data row1 col3\" >11618</td>\n",
       "      <td id=\"T_10045_row1_col4\" class=\"data row1 col4\" >6394</td>\n",
       "      <td id=\"T_10045_row1_col5\" class=\"data row1 col5\" >4304</td>\n",
       "    </tr>\n",
       "    <tr>\n",
       "      <th id=\"T_10045_level0_row2\" class=\"row_heading level0 row2\" >2</th>\n",
       "      <td id=\"T_10045_row2_col0\" class=\"data row2 col0\" >26829</td>\n",
       "      <td id=\"T_10045_row2_col1\" class=\"data row2 col1\" >21553</td>\n",
       "      <td id=\"T_10045_row2_col2\" class=\"data row2 col2\" >13348</td>\n",
       "      <td id=\"T_10045_row2_col3\" class=\"data row2 col3\" >7745</td>\n",
       "      <td id=\"T_10045_row2_col4\" class=\"data row2 col4\" >4262</td>\n",
       "      <td id=\"T_10045_row2_col5\" class=\"data row2 col5\" >2869</td>\n",
       "    </tr>\n",
       "    <tr>\n",
       "      <th id=\"T_10045_level0_row3\" class=\"row_heading level0 row3\" >3</th>\n",
       "      <td id=\"T_10045_row3_col0\" class=\"data row3 col0\" >20122</td>\n",
       "      <td id=\"T_10045_row3_col1\" class=\"data row3 col1\" >16164</td>\n",
       "      <td id=\"T_10045_row3_col2\" class=\"data row3 col2\" >10011</td>\n",
       "      <td id=\"T_10045_row3_col3\" class=\"data row3 col3\" >5809</td>\n",
       "      <td id=\"T_10045_row3_col4\" class=\"data row3 col4\" >3197</td>\n",
       "      <td id=\"T_10045_row3_col5\" class=\"data row3 col5\" >2152</td>\n",
       "    </tr>\n",
       "    <tr>\n",
       "      <th id=\"T_10045_level0_row4\" class=\"row_heading level0 row4\" >4</th>\n",
       "      <td id=\"T_10045_row4_col0\" class=\"data row4 col0\" >16098</td>\n",
       "      <td id=\"T_10045_row4_col1\" class=\"data row4 col1\" >12932</td>\n",
       "      <td id=\"T_10045_row4_col2\" class=\"data row4 col2\" >8009</td>\n",
       "      <td id=\"T_10045_row4_col3\" class=\"data row4 col3\" >4647</td>\n",
       "      <td id=\"T_10045_row4_col4\" class=\"data row4 col4\" >2557</td>\n",
       "      <td id=\"T_10045_row4_col5\" class=\"data row4 col5\" >1722</td>\n",
       "    </tr>\n",
       "    <tr>\n",
       "      <th id=\"T_10045_level0_row5\" class=\"row_heading level0 row5\" >5</th>\n",
       "      <td id=\"T_10045_row5_col0\" class=\"data row5 col0\" >13415</td>\n",
       "      <td id=\"T_10045_row5_col1\" class=\"data row5 col1\" >10776</td>\n",
       "      <td id=\"T_10045_row5_col2\" class=\"data row5 col2\" >6674</td>\n",
       "      <td id=\"T_10045_row5_col3\" class=\"data row5 col3\" >3873</td>\n",
       "      <td id=\"T_10045_row5_col4\" class=\"data row5 col4\" >2131</td>\n",
       "      <td id=\"T_10045_row5_col5\" class=\"data row5 col5\" >1435</td>\n",
       "    </tr>\n",
       "  </tbody>\n",
       "</table>\n"
      ],
      "text/plain": [
       "<pandas.io.formats.style.Styler at 0x118285450>"
      ]
     },
     "execution_count": 34,
     "metadata": {},
     "output_type": "execute_result"
    }
   ],
   "source": [
    "tmp2 = sorted(tmp2,reverse=True)\n",
    "limit = tmp2[vots_a_repartir-1]\n",
    "data = pd.DataFrame(res, columns=colGirona)\n",
    "data\n",
    "\n",
    "data.style.applymap(lambda x: 'background-color : green' if x>=limit else '')"
   ]
  },
  {
   "cell_type": "code",
   "execution_count": null,
   "id": "591c911e-ae31-4260-b2cc-3014c2edaaff",
   "metadata": {},
   "outputs": [],
   "source": []
  }
 ],
 "metadata": {
  "kernelspec": {
   "display_name": "Python 3 (ipykernel)",
   "language": "python",
   "name": "python3"
  },
  "language_info": {
   "codemirror_mode": {
    "name": "ipython",
    "version": 3
   },
   "file_extension": ".py",
   "mimetype": "text/x-python",
   "name": "python",
   "nbconvert_exporter": "python",
   "pygments_lexer": "ipython3",
   "version": "3.10.6"
  }
 },
 "nbformat": 4,
 "nbformat_minor": 5
}
